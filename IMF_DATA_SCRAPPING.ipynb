{
  "nbformat": 4,
  "nbformat_minor": 0,
  "metadata": {
    "colab": {
      "name": "IMF DATA SCRAPPING.ipynb",
      "provenance": [],
      "private_outputs": true,
      "authorship_tag": "ABX9TyMxZpQj05lImTMsTBeYmHLR",
      "include_colab_link": true
    },
    "kernelspec": {
      "name": "python3",
      "display_name": "Python 3"
    }
  },
  "cells": [
    {
      "cell_type": "markdown",
      "metadata": {
        "id": "view-in-github",
        "colab_type": "text"
      },
      "source": [
        "<a href=\"https://colab.research.google.com/github/pavansai26/IMF-data-scrapping/blob/master/IMF_DATA_SCRAPPING.ipynb\" target=\"_parent\"><img src=\"https://colab.research.google.com/assets/colab-badge.svg\" alt=\"Open In Colab\"/></a>"
      ]
    },
    {
      "cell_type": "code",
      "metadata": {
        "id": "lFDquOeFPtuo",
        "colab_type": "code",
        "colab": {}
      },
      "source": [
        "import pandas_datareader.data as web"
      ],
      "execution_count": null,
      "outputs": []
    },
    {
      "cell_type": "markdown",
      "metadata": {
        "id": "lJh-fSSmYm2n",
        "colab_type": "text"
      },
      "source": [
        "GDP data"
      ]
    },
    {
      "cell_type": "code",
      "metadata": {
        "id": "KADVVHp6S1BF",
        "colab_type": "code",
        "colab": {}
      },
      "source": [
        "df = web.DataReader('dataset=IMF_PGI&v=Reference Area&h=TIME&from=2019-05-01&to=2019-09-01&FREQ=[Q]&INDICATOR=[NGDP_R_SA_IX,AIPMA_IX]', 'econdb')"
      ],
      "execution_count": null,
      "outputs": []
    },
    {
      "cell_type": "code",
      "metadata": {
        "id": "2vyc6cnrUh7o",
        "colab_type": "code",
        "colab": {}
      },
      "source": [
        "df"
      ],
      "execution_count": null,
      "outputs": []
    },
    {
      "cell_type": "markdown",
      "metadata": {
        "id": "auF8OTtaZAnG",
        "colab_type": "text"
      },
      "source": [
        "india manfacturing index data "
      ]
    },
    {
      "cell_type": "code",
      "metadata": {
        "id": "8mA1jQ8iYIkm",
        "colab_type": "code",
        "colab": {}
      },
      "source": [
        "df = web.DataReader('dataset=IMF_PGI&v=Reference Area&h=TIME&from=2016-03-30&to=2017-09-01&FREQ=[Q]&INDICATOR=[NGDP_R_SA_IX]&REF_AREA=[IN]', 'econdb')"
      ],
      "execution_count": null,
      "outputs": []
    },
    {
      "cell_type": "code",
      "metadata": {
        "id": "20Lli97aYgWX",
        "colab_type": "code",
        "colab": {}
      },
      "source": [
        "df"
      ],
      "execution_count": null,
      "outputs": []
    },
    {
      "cell_type": "code",
      "metadata": {
        "id": "LNz82_xAYhrR",
        "colab_type": "code",
        "colab": {}
      },
      "source": [
        ""
      ],
      "execution_count": null,
      "outputs": []
    }
  ]
}